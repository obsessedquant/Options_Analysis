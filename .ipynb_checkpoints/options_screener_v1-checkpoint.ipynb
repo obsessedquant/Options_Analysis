{
 "cells": [
  {
   "cell_type": "markdown",
   "id": "4a3b51c9",
   "metadata": {},
   "source": [
    "# Valuing options with volatility cones\n",
    "\n",
    "See reference notes at the bottom for how to use this an analyze the output."
   ]
  },
  {
   "cell_type": "code",
   "execution_count": 44,
   "id": "d4b0d62e",
   "metadata": {},
   "outputs": [],
   "source": [
    "# %matplotlib inline\n",
    "\n",
    "import math\n",
    "import yfinance as yf\n",
    "import numpy as np\n",
    "import matplotlib.pyplot as plt"
   ]
  },
  {
   "cell_type": "code",
   "execution_count": 45,
   "id": "b9ac23b3",
   "metadata": {},
   "outputs": [],
   "source": [
    "windows = [30, 60, 90, 120]\n",
    "quantiles = [0.25, 0.75]\n",
    "\n",
    "min_ = []\n",
    "max_ = []\n",
    "median = []\n",
    "top_q = []\n",
    "bottom_q = []\n",
    "realized = []"
   ]
  },
  {
   "cell_type": "code",
   "execution_count": 46,
   "id": "45cedc87",
   "metadata": {},
   "outputs": [
    {
     "name": "stdout",
     "output_type": "stream",
     "text": [
      "[*********************100%***********************]  1 of 1 completed\n"
     ]
    },
    {
     "data": {
      "text/html": [
       "<div>\n",
       "<style scoped>\n",
       "    .dataframe tbody tr th:only-of-type {\n",
       "        vertical-align: middle;\n",
       "    }\n",
       "\n",
       "    .dataframe tbody tr th {\n",
       "        vertical-align: top;\n",
       "    }\n",
       "\n",
       "    .dataframe thead th {\n",
       "        text-align: right;\n",
       "    }\n",
       "</style>\n",
       "<table border=\"1\" class=\"dataframe\">\n",
       "  <thead>\n",
       "    <tr style=\"text-align: right;\">\n",
       "      <th></th>\n",
       "      <th>Open</th>\n",
       "      <th>High</th>\n",
       "      <th>Low</th>\n",
       "      <th>Close</th>\n",
       "      <th>Volume</th>\n",
       "    </tr>\n",
       "    <tr>\n",
       "      <th>Date</th>\n",
       "      <th></th>\n",
       "      <th></th>\n",
       "      <th></th>\n",
       "      <th></th>\n",
       "      <th></th>\n",
       "    </tr>\n",
       "  </thead>\n",
       "  <tbody>\n",
       "    <tr>\n",
       "      <th>2021-08-06</th>\n",
       "      <td>153.291000</td>\n",
       "      <td>155.098999</td>\n",
       "      <td>150.127197</td>\n",
       "      <td>152.505997</td>\n",
       "      <td>6929000</td>\n",
       "    </tr>\n",
       "    <tr>\n",
       "      <th>2021-08-09</th>\n",
       "      <td>152.580002</td>\n",
       "      <td>155.199005</td>\n",
       "      <td>151.007996</td>\n",
       "      <td>154.998993</td>\n",
       "      <td>10938000</td>\n",
       "    </tr>\n",
       "    <tr>\n",
       "      <th>2021-08-10</th>\n",
       "      <td>155.699997</td>\n",
       "      <td>158.337006</td>\n",
       "      <td>151.443497</td>\n",
       "      <td>152.593994</td>\n",
       "      <td>12075000</td>\n",
       "    </tr>\n",
       "  </tbody>\n",
       "</table>\n",
       "</div>"
      ],
      "text/plain": [
       "                  Open        High         Low       Close    Volume\n",
       "Date                                                                \n",
       "2021-08-06  153.291000  155.098999  150.127197  152.505997   6929000\n",
       "2021-08-09  152.580002  155.199005  151.007996  154.998993  10938000\n",
       "2021-08-10  155.699997  158.337006  151.443497  152.593994  12075000"
      ]
     },
     "execution_count": 46,
     "metadata": {},
     "output_type": "execute_result"
    }
   ],
   "source": [
    "import yfinance as yf\n",
    "\n",
    "# data = yf.download(\"SPY AAPL\", start=\"2017-01-01\", end=\"2017-04-30\")\n",
    "\n",
    "# start=\"2020-01-01\", end=\"2020-12-31\"\n",
    "\n",
    "# start_date = '2020-01-01'\n",
    "# end_date = '2020-12-31'\n",
    "\n",
    "data = yf.download(  # or pdr.get_data_yahoo(...\n",
    "        # tickers list or string as well\n",
    "        tickers = \"SHOP\",\n",
    "\n",
    "        # use \"period\" instead of start/end\n",
    "        # valid periods: 1d,5d,1mo,3mo,6mo,1y,2y,5y,10y,ytd,max\n",
    "        # (optional, default is '1mo')\n",
    "        period = \"1y\",\n",
    "    \n",
    "#         start = start_date,\n",
    "#         end = end_date,\n",
    "\n",
    "        # fetch data by interval (including intraday if period < 60 days)\n",
    "        # valid intervals: 1m,2m,5m,15m,30m,60m,90m,1h,1d,5d,1wk,1mo,3mo\n",
    "        # (optional, default is '1d')\n",
    "        interval = \"1d\",\n",
    "\n",
    "        # group by ticker (to access via data['SPY'])\n",
    "        # (optional, default is 'column')\n",
    "        group_by = 'ticker',\n",
    "\n",
    "        # adjust all OHLC automatically\n",
    "        # (optional, default is False)\n",
    "        auto_adjust = True,\n",
    "\n",
    "        # download pre/post regular market hours data\n",
    "        # (optional, default is False)\n",
    "        prepost = True,\n",
    "\n",
    "        # use threads for mass downloading? (True/False/Integer)\n",
    "        # (optional, default is True)\n",
    "        threads = True,\n",
    "\n",
    "        # proxy URL scheme use use when downloading?\n",
    "        # (optional, default is None)\n",
    "        proxy = None\n",
    "    )\n",
    "\n",
    "# data.to_csv('BTC_1hr_prices.csv')\n",
    "data.head(3)"
   ]
  },
  {
   "cell_type": "code",
   "execution_count": 47,
   "id": "619994f1",
   "metadata": {},
   "outputs": [],
   "source": [
    "# data = yf.download(\"JPM\", start=\"2020-01-01\", end=\"2020-12-31\")"
   ]
  },
  {
   "cell_type": "code",
   "execution_count": 48,
   "id": "7efb0825",
   "metadata": {},
   "outputs": [],
   "source": [
    "def realized_vol(price_data, window=30):\n",
    "\n",
    "    log_return = (price_data[\"Close\"] / price_data[\"Close\"].shift(1)).apply(np.log)\n",
    "\n",
    "    return log_return.rolling(window=window, center=False).std() * math.sqrt(252)"
   ]
  },
  {
   "cell_type": "code",
   "execution_count": 49,
   "id": "46c27b00",
   "metadata": {},
   "outputs": [],
   "source": [
    "for window in windows:\n",
    "    \n",
    "    # get a dataframe with realized volatility\n",
    "    estimator = realized_vol(window=window, price_data=data)\n",
    "    \n",
    "    # append the summary stats to a list\n",
    "    min_.append(estimator.min())\n",
    "    max_.append(estimator.max())\n",
    "    median.append(estimator.median())\n",
    "    top_q.append(estimator.quantile(quantiles[1]))\n",
    "    bottom_q.append(estimator.quantile(quantiles[0]))\n",
    "    realized.append(estimator[-1])"
   ]
  },
  {
   "cell_type": "code",
   "execution_count": 50,
   "id": "ac957a1c",
   "metadata": {},
   "outputs": [
    {
     "data": {
      "text/plain": [
       "<matplotlib.legend.Legend at 0x25199510548>"
      ]
     },
     "execution_count": 50,
     "metadata": {},
     "output_type": "execute_result"
    },
    {
     "data": {
      "image/png": "[encoded data removed]",
      "text/plain": [
       "<Figure size 432x288 with 1 Axes>"
      ]
     },
     "metadata": {},
     "output_type": "display_data"
    }
   ],
   "source": [
    "# %matplotlib notebook\n",
    "%matplotlib inline\n",
    "\n",
    "fig = plt.figure()\n",
    "fig.patch.set_facecolor('white')\n",
    "\n",
    "# create the plots on the chart\n",
    "plt.plot(windows, min_, \"-o\", linewidth=1, label=\"Min\")\n",
    "plt.plot(windows, max_, \"-o\", linewidth=1, label=\"Max\")\n",
    "plt.plot(windows, median, \"-o\", linewidth=1, label=\"Median\")\n",
    "plt.plot(windows, top_q, \"-o\", linewidth=1, label=f\"{quantiles[1] * 100:.0f} Prctl\")\n",
    "plt.plot(windows, bottom_q, \"-o\", linewidth=1, label=f\"{quantiles[0] * 100:.0f} Prctl\")\n",
    "plt.plot(windows, realized, \"ro-.\", linewidth=1, label=\"Realized\")\n",
    "\n",
    "# set the x-axis labels\n",
    "plt.xticks(windows)\n",
    "\n",
    "# format the legend\n",
    "plt.legend(loc=\"upper center\", bbox_to_anchor=(0.5, -0.1), ncol=3)"
   ]
  },
  {
   "cell_type": "code",
   "execution_count": 55,
   "id": "56e366f5",
   "metadata": {},
   "outputs": [
    {
     "data": {
      "text/plain": [
       "[0.26757358063728964,\n",
       " 0.3512812839542124,\n",
       " 0.43034225702710566,\n",
       " 0.5289950018465921]"
      ]
     },
     "execution_count": 55,
     "metadata": {},
     "output_type": "execute_result"
    }
   ],
   "source": [
    "min_"
   ]
  },
  {
   "cell_type": "code",
   "execution_count": 56,
   "id": "33462b73",
   "metadata": {},
   "outputs": [
    {
     "data": {
      "text/plain": [
       "[1.0015259141935102, 1.0570649696172663, 1.0367275993339038, 1.082388998247756]"
      ]
     },
     "execution_count": 56,
     "metadata": {},
     "output_type": "execute_result"
    }
   ],
   "source": [
    "realized"
   ]
  },
  {
   "cell_type": "code",
   "execution_count": 66,
   "id": "114fc540",
   "metadata": {},
   "outputs": [
    {
     "name": "stdout",
     "output_type": "stream",
     "text": [
      "75.26051736165529\n",
      "87.82341264895514\n",
      "87.80397672947372\n",
      "99.63775336818065\n",
      "[75.26051736165529, 87.82341264895514, 87.80397672947372, 99.63775336818065]\n",
      "87.6314150270662\n"
     ]
    }
   ],
   "source": [
    "pct_list = []\n",
    "\n",
    "pct30 = (realized[0] - min_[0]) / (max_[0] - min_[0]) * 100\n",
    "pct_list.append(pct30)\n",
    "pct60 = (realized[1] - min_[1]) / (max_[1] - min_[1]) * 100\n",
    "pct_list.append(pct60)\n",
    "pct90 = (realized[2] - min_[2]) / (max_[2] - min_[2]) * 100\n",
    "pct_list.append(pct90)\n",
    "pct120 = (realized[3] - min_[3]) / (max_[3] - min_[3]) * 100\n",
    "pct_list.append(pct120)\n",
    "\n",
    "print(pct30)\n",
    "print(pct60)\n",
    "print(pct90)\n",
    "print(pct120)\n",
    "print(pct_list)\n",
    "\n",
    "print(sum(pct_list)/len(pct_list))"
   ]
  },
  {
   "cell_type": "markdown",
   "id": "3de977ae",
   "metadata": {},
   "source": [
    "![View](Images/volatility_cones1.png)"
   ]
  },
  {
   "cell_type": "markdown",
   "id": "5e2e890a",
   "metadata": {},
   "source": [
    "![View](Images/volatility_cones2.png)"
   ]
  },
  {
   "cell_type": "markdown",
   "id": "b392bf42",
   "metadata": {},
   "source": [
    "![View](Images/volatility_cones3.png)"
   ]
  }
 ],
 "metadata": {
  "kernelspec": {
   "display_name": "Python [conda env:pyvizenv]",
   "language": "python",
   "name": "conda-env-pyvizenv-py"
  },
  "language_info": {
   "codemirror_mode": {
    "name": "ipython",
    "version": 3
   },
   "file_extension": ".py",
   "mimetype": "text/x-python",
   "name": "python",
   "nbconvert_exporter": "python",
   "pygments_lexer": "ipython3",
   "version": "3.7.11"
  }
 },
 "nbformat": 4,
 "nbformat_minor": 5
}
