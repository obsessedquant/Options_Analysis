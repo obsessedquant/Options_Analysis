{
 "cells": [
  {
   "cell_type": "markdown",
   "id": "f47d6553",
   "metadata": {},
   "source": [
    "# Implied Volatility Calculation\n",
    "\n",
    "Reference: https://www.youtube.com/watch?v=Jpy3iCsijIU"
   ]
  },
  {
   "cell_type": "code",
   "execution_count": 3,
   "id": "4b706a09",
   "metadata": {},
   "outputs": [
    {
     "name": "stdout",
     "output_type": "stream",
     "text": [
      "Sigma =  0.1882331957011529\n",
      "Code took  2  iterations\n"
     ]
    }
   ],
   "source": [
    "from math import sqrt, exp, log, pi\n",
    "from scipy.stats import norm\n",
    "\n",
    "def d(sigma, S, K, r, t):\n",
    "    d1 = 1 / (sigma * sqrt(t)) * (log(S/K) + (r + sigma**2/2) * t)\n",
    "    d2 = d1 - sigma * sqrt(t)\n",
    "    return d1, d2\n",
    "\n",
    "def call_price(sigma,S,K,r,t,d1,d2):\n",
    "    C = norm.cdf(d1) * S - norm.cdf(d2) * K * exp(-r * t)\n",
    "    return C\n",
    "\n",
    "# Option parameters\n",
    "# S = 100.0\n",
    "# K = 105.0\n",
    "# t = 30.0 / 365.0\n",
    "# r = 0.01\n",
    "# C0 = 2.30\n",
    "\n",
    "# S = 194.11 # stock price\n",
    "# K = 210.0 # strike price\n",
    "# t = 38 / 365.0 # time to expiration (years)\n",
    "# r = 0.01 # risk-free rate (annualized)\n",
    "# C0 = 1.50\n",
    "\n",
    "S = 412.95 # stock price\n",
    "K = 413.0 # strike price\n",
    "t = 13 / 365.0 # time to expiration (years)\n",
    "r = 0.01 # risk-free rate (annualized)\n",
    "C0 = 5.90 # option price\n",
    "\n",
    "\n",
    "# Tolerances\n",
    "tol = 1e-3\n",
    "epsilon = 1\n",
    "\n",
    "count = 0\n",
    "max_iter = 1000\n",
    "\n",
    "vol = 0.50\n",
    "\n",
    "while epsilon > tol:\n",
    "    count += 1\n",
    "    if count >= max_iter:\n",
    "        print('Breaking on count')\n",
    "        break;\n",
    "    \n",
    "    orig_vol = vol\n",
    "    \n",
    "    d1, d2 = d(vol, S, K, r, t)\n",
    "    function_value = call_price(vol, S, K, r, t, d1, d2) - C0\n",
    "    \n",
    "    vega = S * norm.pdf(d1) * sqrt(t) # Greek nu is vega\n",
    "    vol = -function_value / vega + vol\n",
    "    \n",
    "    epsilon = abs( (vol - orig_vol) / orig_vol )\n",
    "\n",
    "print('Sigma = ',vol) # Sigma is implied volatility\n",
    "print('Code took ', count, ' iterations')\n",
    "# d1, d2 = d(0.15, S, K, r, t) # used to test code calculating correctly\n",
    "# print( call_price(0.15,S,K,r,t,d1,d2)) # used to test code calculating correctly"
   ]
  },
  {
   "cell_type": "markdown",
   "id": "af2febc4",
   "metadata": {},
   "source": [
    "# Realized Volatility Calculation"
   ]
  },
  {
   "cell_type": "code",
   "execution_count": 2,
   "id": "bdc929bd",
   "metadata": {},
   "outputs": [],
   "source": [
    "import pandas as pd\n",
    "import numpy as np\n",
    "import yfinance as yf # https://pypi.org/project/yfinance/"
   ]
  },
  {
   "cell_type": "code",
   "execution_count": 9,
   "id": "1d457fd0",
   "metadata": {},
   "outputs": [
    {
     "name": "stdout",
     "output_type": "stream",
     "text": [
      "[*********************100%***********************]  1 of 1 completed\n",
      "Date\n",
      "2019-10-02    0.006947\n",
      "2019-10-03    0.006522\n",
      "2019-10-04    0.007306\n",
      "2019-10-07    0.007347\n",
      "2019-10-08    0.008043\n",
      "                ...   \n",
      "2021-08-30    0.005386\n",
      "2021-08-31    0.005204\n",
      "2021-09-01    0.005007\n",
      "2021-09-02    0.004891\n",
      "2021-09-03    0.004902\n",
      "Name: PCT, Length: 486, dtype: float64\n"
     ]
    }
   ],
   "source": [
    "SPY = yf.download('SPY',period='2y',interval='1d')\n",
    "SPY['PCT'] = SPY['Close'].pct_change()\n",
    "SPY_pct = SPY['PCT'].iloc[1:]\n",
    "\n",
    "vol_pandas = SPY_pct.rolling(20).std().dropna()\n",
    "print(vol_pandas)"
   ]
  },
  {
   "cell_type": "code",
   "execution_count": 12,
   "id": "efa21701",
   "metadata": {},
   "outputs": [
    {
     "data": {
      "text/plain": [
       "0.00694650811327982"
      ]
     },
     "execution_count": 12,
     "metadata": {},
     "output_type": "execute_result"
    }
   ],
   "source": [
    "spy_pct = SPY_pct.to_numpy()\n",
    "np.std(spy_pct[0:20], ddof = 1)"
   ]
  },
  {
   "cell_type": "code",
   "execution_count": null,
   "id": "7dad63f7",
   "metadata": {},
   "outputs": [],
   "source": []
  }
 ],
 "metadata": {
  "kernelspec": {
   "display_name": "Python [conda env:pyvizenv]",
   "language": "python",
   "name": "conda-env-pyvizenv-py"
  },
  "language_info": {
   "codemirror_mode": {
    "name": "ipython",
    "version": 3
   },
   "file_extension": ".py",
   "mimetype": "text/x-python",
   "name": "python",
   "nbconvert_exporter": "python",
   "pygments_lexer": "ipython3",
   "version": "3.7.11"
  }
 },
 "nbformat": 4,
 "nbformat_minor": 5
}
