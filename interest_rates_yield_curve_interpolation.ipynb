{
 "cells": [
  {
   "cell_type": "markdown",
   "id": "53699c1c",
   "metadata": {},
   "source": [
    "# Interest Rates and Yield Curve Interpolation\n",
    "\n",
    "Steps:  \n",
    "- Get interest rates data from web site  \n",
    "- Apply interpolation method  \n",
    "- Testing output with input data"
   ]
  },
  {
   "cell_type": "code",
   "execution_count": 3,
   "id": "77d382ad",
   "metadata": {},
   "outputs": [],
   "source": [
    "# Inputs\n",
    "goto_website = 'https://www.federalreserve.gov/datadownload/Download.aspx?rel=H15&series=bf17364827e38702b42a58cf8eaa3f78&from=&to=&lastObs=&filetype=csv&label=include&layout=seriescolumn&type=package'\n",
    "driver_executable_path = \"C:\\\\Users\\\\srobi\\\\GitHubRepos\\\\chromedriver.exe\"\n",
    "download_directory = \"C:\\\\Users\\\\srobi\\\\GitHubRepos\\\\0_inputs\\\\economic_indicators\\\\interest_rates\""
   ]
  },
  {
   "cell_type": "markdown",
   "id": "f6a6fb43",
   "metadata": {},
   "source": [
    "![View](Images/int_rates1.png)"
   ]
  },
  {
   "cell_type": "code",
   "execution_count": 10,
   "id": "be00dbd7",
   "metadata": {},
   "outputs": [],
   "source": [
    "# Random wait times\n",
    "import random\n",
    "import time\n",
    "\n",
    "def waitTime(myfloat: float):\n",
    "    \n",
    "    if isinstance(myfloat,int):\n",
    "        myfloat = float(myfloat)\n",
    "        \n",
    "    if isinstance(myfloat,float):\n",
    "        quick_time = random.randint(0,9)*10**(-1) + random.randint(0,9)*10**(-2) + random.randint(0,9)*10**(-3) + random.randint(0,9)*10**(-4) + random.randint(0,9)*10**(-5) + random.randint(0,9)*10**(-6)\n",
    "        quick_time = quick_time + myfloat\n",
    "        print(f'Input = {myfloat}, Sleep time: {quick_time:.3f} seconds')\n",
    "        time.sleep(quick_time)\n",
    "    else:\n",
    "        return 'Input a float value.'"
   ]
  },
  {
   "cell_type": "code",
   "execution_count": 8,
   "id": "b11aae68",
   "metadata": {},
   "outputs": [],
   "source": [
    "from selenium import webdriver\n",
    "from selenium.webdriver.support.ui import WebDriverWait\n",
    "from selenium.webdriver.support import expected_conditions as EC\n",
    "from selenium.webdriver.common.by import By\n",
    "\n",
    "op = webdriver.ChromeOptions()\n",
    "p = {\"download.default_directory\":download_directory,\"safebrowsing.enabled\":\"false\"}\n",
    "op.add_experimental_option(\"prefs\", p)\n",
    "\n",
    "browser = webdriver.Chrome(executable_path=driver_executable_path, options=op)\n",
    "browser.implicitly_wait(0.4)\n",
    "\n",
    "browser.get(goto_website)\n",
    "waitTime(3)"
   ]
  },
  {
   "cell_type": "code",
   "execution_count": 7,
   "id": "aa5202c4",
   "metadata": {},
   "outputs": [],
   "source": [
    "# browser.quit()"
   ]
  },
  {
   "cell_type": "code",
   "execution_count": 9,
   "id": "7ad062cd",
   "metadata": {},
   "outputs": [],
   "source": [
    "click_item = WebDriverWait(browser, 20).until(EC.presence_of_element_located((By.XPATH,\"//html/body/form/div[3]/div[5]/div[2]/div/p[2]/a[1]\")))\n",
    "browser.execute_script(\"arguments[0].click()\",click_item)\n",
    "waitTime(3)"
   ]
  },
  {
   "cell_type": "code",
   "execution_count": 11,
   "id": "cd43012b",
   "metadata": {},
   "outputs": [],
   "source": [
    "browser.quit()"
   ]
  },
  {
   "cell_type": "code",
   "execution_count": 49,
   "id": "d4e26f7f",
   "metadata": {},
   "outputs": [
    {
     "data": {
      "text/html": [
       "<div>\n",
       "<style scoped>\n",
       "    .dataframe tbody tr th:only-of-type {\n",
       "        vertical-align: middle;\n",
       "    }\n",
       "\n",
       "    .dataframe tbody tr th {\n",
       "        vertical-align: top;\n",
       "    }\n",
       "\n",
       "    .dataframe thead th {\n",
       "        text-align: right;\n",
       "    }\n",
       "</style>\n",
       "<table border=\"1\" class=\"dataframe\">\n",
       "  <thead>\n",
       "    <tr style=\"text-align: right;\">\n",
       "      <th></th>\n",
       "      <th>1-month</th>\n",
       "      <th>3-month</th>\n",
       "      <th>6-month</th>\n",
       "      <th>1-year</th>\n",
       "      <th>2-year</th>\n",
       "      <th>3-year</th>\n",
       "      <th>5-year</th>\n",
       "      <th>7-year</th>\n",
       "      <th>10-year</th>\n",
       "      <th>20-year</th>\n",
       "      <th>30-year</th>\n",
       "    </tr>\n",
       "    <tr>\n",
       "      <th>Date</th>\n",
       "      <th></th>\n",
       "      <th></th>\n",
       "      <th></th>\n",
       "      <th></th>\n",
       "      <th></th>\n",
       "      <th></th>\n",
       "      <th></th>\n",
       "      <th></th>\n",
       "      <th></th>\n",
       "      <th></th>\n",
       "      <th></th>\n",
       "    </tr>\n",
       "  </thead>\n",
       "  <tbody>\n",
       "    <tr>\n",
       "      <th>2022-09-27</th>\n",
       "      <td>2.71</td>\n",
       "      <td>3.35</td>\n",
       "      <td>3.91</td>\n",
       "      <td>4.16</td>\n",
       "      <td>4.30</td>\n",
       "      <td>4.39</td>\n",
       "      <td>4.21</td>\n",
       "      <td>4.14</td>\n",
       "      <td>3.97</td>\n",
       "      <td>4.15</td>\n",
       "      <td>3.87</td>\n",
       "    </tr>\n",
       "    <tr>\n",
       "      <th>2022-09-28</th>\n",
       "      <td>2.63</td>\n",
       "      <td>3.40</td>\n",
       "      <td>3.87</td>\n",
       "      <td>3.99</td>\n",
       "      <td>4.07</td>\n",
       "      <td>4.12</td>\n",
       "      <td>3.92</td>\n",
       "      <td>3.83</td>\n",
       "      <td>3.72</td>\n",
       "      <td>3.98</td>\n",
       "      <td>3.70</td>\n",
       "    </tr>\n",
       "    <tr>\n",
       "      <th>2022-09-29</th>\n",
       "      <td>2.78</td>\n",
       "      <td>3.36</td>\n",
       "      <td>3.87</td>\n",
       "      <td>3.98</td>\n",
       "      <td>4.16</td>\n",
       "      <td>4.19</td>\n",
       "      <td>3.98</td>\n",
       "      <td>3.89</td>\n",
       "      <td>3.76</td>\n",
       "      <td>4.00</td>\n",
       "      <td>3.71</td>\n",
       "    </tr>\n",
       "  </tbody>\n",
       "</table>\n",
       "</div>"
      ],
      "text/plain": [
       "           1-month 3-month 6-month 1-year 2-year 3-year 5-year 7-year 10-year  \\\n",
       "Date                                                                            \n",
       "2022-09-27    2.71    3.35    3.91   4.16   4.30   4.39   4.21   4.14    3.97   \n",
       "2022-09-28    2.63    3.40    3.87   3.99   4.07   4.12   3.92   3.83    3.72   \n",
       "2022-09-29    2.78    3.36    3.87   3.98   4.16   4.19   3.98   3.89    3.76   \n",
       "\n",
       "           20-year 30-year  \n",
       "Date                        \n",
       "2022-09-27    4.15    3.87  \n",
       "2022-09-28    3.98    3.70  \n",
       "2022-09-29    4.00    3.71  "
      ]
     },
     "metadata": {},
     "output_type": "display_data"
    }
   ],
   "source": [
    "import pandas as pd\n",
    "from collections import defaultdict\n",
    "\n",
    "int_rate_df = pd.read_csv('../0_inputs/economic_indicators/interest_rates/FRB_H15.csv')\n",
    "\n",
    "int_rate_list = ['1-month','3-month','6-month','1-year','2-year','3-year','5-year','7-year','10-year','20-year','30-year']\n",
    "\n",
    "col_name_dict = {'Series Description':'Date'}\n",
    "problems_dict = defaultdict(list)\n",
    "cur_rate_dict = defaultdict(list)\n",
    "last_item_index = len(int_rate_df)-1\n",
    "\n",
    "for col in int_rate_df.columns:\n",
    "    if '1-month' in col:\n",
    "        col_name_dict[col]='1-month'\n",
    "        int_rate_list.remove('1-month')\n",
    "        cur_rate_dict['term'].append('1-month')\n",
    "        cur_rate_dict['value'].append(float(int_rate_df[col][last_item_index]))\n",
    "        cur_rate_dict['days'].append(30)\n",
    "    elif '3-month' in col: col_name_dict[col]='3-month'; int_rate_list.remove('3-month');cur_rate_dict['term'].append('3-month');cur_rate_dict['value'].append(float(int_rate_df[col][last_item_index]));cur_rate_dict['days'].append(3*30)\n",
    "    elif '6-month' in col: col_name_dict[col]='6-month'; int_rate_list.remove('6-month');cur_rate_dict['term'].append('6-month');cur_rate_dict['value'].append(float(int_rate_df[col][last_item_index]));cur_rate_dict['days'].append(6*30)\n",
    "    elif '1-year' in col: col_name_dict[col]='1-year'; int_rate_list.remove('1-year');cur_rate_dict['term'].append('1-year');cur_rate_dict['value'].append(float(int_rate_df[col][last_item_index]));cur_rate_dict['days'].append(12*30)\n",
    "    elif '2-year' in col: col_name_dict[col]='2-year'; int_rate_list.remove('2-year');cur_rate_dict['term'].append('2-year');cur_rate_dict['value'].append(float(int_rate_df[col][last_item_index]));cur_rate_dict['days'].append(2*12*30)\n",
    "    elif '3-year' in col: col_name_dict[col]='3-year'; int_rate_list.remove('3-year');cur_rate_dict['term'].append('3-year');cur_rate_dict['value'].append(float(int_rate_df[col][last_item_index]));cur_rate_dict['days'].append(3*12*30)\n",
    "    elif '5-year' in col: col_name_dict[col]='5-year'; int_rate_list.remove('5-year');cur_rate_dict['term'].append('5-year');cur_rate_dict['value'].append(float(int_rate_df[col][last_item_index]));cur_rate_dict['days'].append(5*12*30)\n",
    "    elif '7-year' in col: col_name_dict[col]='7-year'; int_rate_list.remove('7-year');cur_rate_dict['term'].append('7-year');cur_rate_dict['value'].append(float(int_rate_df[col][last_item_index]));cur_rate_dict['days'].append(7*12*30)\n",
    "    elif '10-year' in col: col_name_dict[col]='10-year'; int_rate_list.remove('10-year');cur_rate_dict['term'].append('10-year');cur_rate_dict['value'].append(float(int_rate_df[col][last_item_index]));cur_rate_dict['days'].append(10*12*30)\n",
    "    elif '20-year' in col: col_name_dict[col]='20-year'; int_rate_list.remove('20-year');cur_rate_dict['term'].append('20-year');cur_rate_dict['value'].append(float(int_rate_df[col][last_item_index]));cur_rate_dict['days'].append(20*12*30)\n",
    "    elif '30-year' in col: col_name_dict[col]='30-year'; int_rate_list.remove('30-year');cur_rate_dict['term'].append('30-year');cur_rate_dict['value'].append(float(int_rate_df[col][last_item_index]));cur_rate_dict['days'].append(30*12*30)\n",
    "        \n",
    "if int_rate_list:\n",
    "    problems_dict['message'].append(f'int_rate_list is not null!! = {int_rate_list}')\n",
    "    \n",
    "int_rate_df.rename(columns=col_name_dict,inplace=True)\n",
    "int_rate_df.set_index('Date',inplace=True)\n",
    "display(int_rate_df.tail(3))"
   ]
  },
  {
   "cell_type": "code",
   "execution_count": 51,
   "id": "7a99183e",
   "metadata": {},
   "outputs": [
    {
     "data": {
      "text/html": [
       "<div>\n",
       "<style scoped>\n",
       "    .dataframe tbody tr th:only-of-type {\n",
       "        vertical-align: middle;\n",
       "    }\n",
       "\n",
       "    .dataframe tbody tr th {\n",
       "        vertical-align: top;\n",
       "    }\n",
       "\n",
       "    .dataframe thead th {\n",
       "        text-align: right;\n",
       "    }\n",
       "</style>\n",
       "<table border=\"1\" class=\"dataframe\">\n",
       "  <thead>\n",
       "    <tr style=\"text-align: right;\">\n",
       "      <th></th>\n",
       "      <th>term</th>\n",
       "      <th>value</th>\n",
       "      <th>days</th>\n",
       "    </tr>\n",
       "  </thead>\n",
       "  <tbody>\n",
       "    <tr>\n",
       "      <th>0</th>\n",
       "      <td>1-month</td>\n",
       "      <td>2.78</td>\n",
       "      <td>30</td>\n",
       "    </tr>\n",
       "    <tr>\n",
       "      <th>1</th>\n",
       "      <td>3-month</td>\n",
       "      <td>3.36</td>\n",
       "      <td>90</td>\n",
       "    </tr>\n",
       "    <tr>\n",
       "      <th>2</th>\n",
       "      <td>6-month</td>\n",
       "      <td>3.87</td>\n",
       "      <td>180</td>\n",
       "    </tr>\n",
       "    <tr>\n",
       "      <th>3</th>\n",
       "      <td>1-year</td>\n",
       "      <td>3.98</td>\n",
       "      <td>360</td>\n",
       "    </tr>\n",
       "    <tr>\n",
       "      <th>4</th>\n",
       "      <td>2-year</td>\n",
       "      <td>4.16</td>\n",
       "      <td>720</td>\n",
       "    </tr>\n",
       "    <tr>\n",
       "      <th>5</th>\n",
       "      <td>3-year</td>\n",
       "      <td>4.19</td>\n",
       "      <td>1080</td>\n",
       "    </tr>\n",
       "    <tr>\n",
       "      <th>6</th>\n",
       "      <td>5-year</td>\n",
       "      <td>3.98</td>\n",
       "      <td>1800</td>\n",
       "    </tr>\n",
       "    <tr>\n",
       "      <th>7</th>\n",
       "      <td>7-year</td>\n",
       "      <td>3.89</td>\n",
       "      <td>2520</td>\n",
       "    </tr>\n",
       "    <tr>\n",
       "      <th>8</th>\n",
       "      <td>10-year</td>\n",
       "      <td>3.76</td>\n",
       "      <td>3600</td>\n",
       "    </tr>\n",
       "    <tr>\n",
       "      <th>9</th>\n",
       "      <td>20-year</td>\n",
       "      <td>4.00</td>\n",
       "      <td>7200</td>\n",
       "    </tr>\n",
       "    <tr>\n",
       "      <th>10</th>\n",
       "      <td>30-year</td>\n",
       "      <td>3.71</td>\n",
       "      <td>10800</td>\n",
       "    </tr>\n",
       "  </tbody>\n",
       "</table>\n",
       "</div>"
      ],
      "text/plain": [
       "       term  value   days\n",
       "0   1-month   2.78     30\n",
       "1   3-month   3.36     90\n",
       "2   6-month   3.87    180\n",
       "3    1-year   3.98    360\n",
       "4    2-year   4.16    720\n",
       "5    3-year   4.19   1080\n",
       "6    5-year   3.98   1800\n",
       "7    7-year   3.89   2520\n",
       "8   10-year   3.76   3600\n",
       "9   20-year   4.00   7200\n",
       "10  30-year   3.71  10800"
      ]
     },
     "execution_count": 51,
     "metadata": {},
     "output_type": "execute_result"
    }
   ],
   "source": [
    "cur_rate_df = pd.DataFrame(cur_rate_dict)\n",
    "cur_rate_df"
   ]
  },
  {
   "cell_type": "code",
   "execution_count": 54,
   "id": "db063e62",
   "metadata": {},
   "outputs": [],
   "source": [
    "# !pip install gekko"
   ]
  },
  {
   "cell_type": "code",
   "execution_count": 71,
   "id": "3b45372f",
   "metadata": {},
   "outputs": [
    {
     "data": {
      "text/plain": [
       "[<matplotlib.lines.Line2D at 0x23d8f7d4d88>]"
      ]
     },
     "execution_count": 71,
     "metadata": {},
     "output_type": "execute_result"
    },
    {
     "data": {
      "image/png": "[encoded data removed]",
      "text/plain": [
       "<Figure size 432x288 with 1 Axes>"
      ]
     },
     "metadata": {},
     "output_type": "display_data"
    }
   ],
   "source": [
    "from gekko import GEKKO\n",
    "import numpy as np\n",
    "import matplotlib.pyplot as plt\n",
    "%matplotlib inline\n",
    "\n",
    "fig = plt.figure()\n",
    "fig.patch.set_facecolor('white')\n",
    "\n",
    "xm = np.array([0,1,2,3,4,5])\n",
    "ym = np.array([0.1,0.2,0.3,0.5,1,0.9])\n",
    "\n",
    "m = GEKKO(remote=True)\n",
    "m.x = m.Param(value=np.linspace(-1,6))\n",
    "m.y = m.Var()\n",
    "m.cspline(m.x,m.y,xm,ym)\n",
    "m.options.IMODE=2\n",
    "m.solve(disp=False)\n",
    "\n",
    "p = GEKKO(remote=True)\n",
    "p.x = p.Var(value=1,lb=2.5,ub=2.6) # set lower bounds and upper bounds\n",
    "p.y = p.Var()\n",
    "# optimize this value change value to -p.y to find maximum, or +p.y to find minimum\n",
    "p.Obj(-p.y)\n",
    "p.cspline(p.x, p.y, xm, ym)\n",
    "p.solve(disp=False)\n",
    "\n",
    "plt.plot(xm,ym,'bo',label='data')\n",
    "plt.plot(m.x,m.y,'r--',label='cubic spline')\n",
    "plt.plot(p.x,p.y,'ko',label='maximum')"
   ]
  },
  {
   "cell_type": "code",
   "execution_count": 73,
   "id": "4393a4ae",
   "metadata": {},
   "outputs": [
    {
     "data": {
      "text/plain": [
       "[0.37526124933]"
      ]
     },
     "execution_count": 73,
     "metadata": {},
     "output_type": "execute_result"
    }
   ],
   "source": [
    "p.y"
   ]
  },
  {
   "cell_type": "code",
   "execution_count": null,
   "id": "2f883267",
   "metadata": {},
   "outputs": [],
   "source": []
  },
  {
   "cell_type": "code",
   "execution_count": null,
   "id": "399258f8",
   "metadata": {},
   "outputs": [],
   "source": []
  },
  {
   "cell_type": "markdown",
   "id": "84b99e70",
   "metadata": {},
   "source": [
    "#### Problems section"
   ]
  },
  {
   "cell_type": "code",
   "execution_count": 26,
   "id": "bcbbc231",
   "metadata": {},
   "outputs": [
    {
     "name": "stdout",
     "output_type": "stream",
     "text": [
      "There were no problems in this run.\n"
     ]
    }
   ],
   "source": [
    "if problems_dict: problems_df = pd.DataFrame(problems_dict); display(problems_df)\n",
    "else: print('There were no problems in this run.')"
   ]
  },
  {
   "cell_type": "code",
   "execution_count": null,
   "id": "f7e24d87",
   "metadata": {},
   "outputs": [],
   "source": [
    "print(f'Completed on {datetime.datetime.now()}')"
   ]
  }
 ],
 "metadata": {
  "kernelspec": {
   "display_name": "Python [conda env:pyvizenv]",
   "language": "python",
   "name": "conda-env-pyvizenv-py"
  },
  "language_info": {
   "codemirror_mode": {
    "name": "ipython",
    "version": 3
   },
   "file_extension": ".py",
   "mimetype": "text/x-python",
   "name": "python",
   "nbconvert_exporter": "python",
   "pygments_lexer": "ipython3",
   "version": "3.7.11"
  }
 },
 "nbformat": 4,
 "nbformat_minor": 5
}
